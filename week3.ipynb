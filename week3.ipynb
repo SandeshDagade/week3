{
  "nbformat": 4,
  "nbformat_minor": 0,
  "metadata": {
    "colab": {
      "provenance": []
    },
    "kernelspec": {
      "name": "python3",
      "display_name": "Python 3"
    },
    "language_info": {
      "name": "python"
    }
  },
  "cells": [
    {
      "cell_type": "code",
      "source": [
        "def evendiv(x,y,z):\n",
        "    return(sum(list([i for i in range(x, y+1) if i%z==0])))\n",
        "\n",
        "print(evendiv(1,10,2))"
      ],
      "metadata": {
        "id": "TMYJdPZw_VcP"
      },
      "execution_count": null,
      "outputs": []
    },
    {
      "cell_type": "code",
      "source": [
        "#2\n",
        "def check(a):\n",
        "  b=eval(a)\n",
        "  if b:\n",
        "    return True\n",
        "  else:\n",
        "    return False\n",
        "print(check(\"5<15<55\"))\n",
        "print(check(\"15>65>1\"))\n",
        "print(check(\"1>4<6\"))"
      ],
      "metadata": {
        "colab": {
          "base_uri": "https://localhost:8080/"
        },
        "id": "RPWLOtl9exPS",
        "outputId": "4f72a7e3-13bb-4439-a715-f6f27ffbc1fe"
      },
      "execution_count": null,
      "outputs": [
        {
          "output_type": "stream",
          "name": "stdout",
          "text": [
            "True\n",
            "False\n",
            "False\n"
          ]
        }
      ]
    },
    {
      "cell_type": "code",
      "source": [
        "#3\n",
        "print(\"Enter the String: \")\n",
        "str = input()\n",
        "\n",
        "print(\"Enter a character: \")\n",
        "char = input()\n",
        "\n",
        "newstr = \"\"\n",
        "for i in range(len(str)):\n",
        "    if str[i]=='a' or str[i]=='e' or str[i]=='i' or str[i]=='o' or str[i]=='u':\n",
        "        newstr = newstr + char\n",
        "    else:\n",
        "        newstr = newstr + str[i]\n",
        "\n",
        "print(\"\\nOriginal String:\", str)\n",
        "print(\"New String:\", newstr)\n"
      ],
      "metadata": {
        "colab": {
          "base_uri": "https://localhost:8080/"
        },
        "id": "lA3JOffEgW-6",
        "outputId": "1b5503a3-2728-4270-caff-0ed2ab5eae56"
      },
      "execution_count": null,
      "outputs": [
        {
          "output_type": "stream",
          "name": "stdout",
          "text": [
            "Enter the String: \n",
            "sandesh\n",
            "Enter a character: \n",
            "s\n",
            "\n",
            "Original String: sandesh\n",
            "New String: ssndssh\n"
          ]
        }
      ]
    },
    {
      "cell_type": "code",
      "source": [
        "#4\n",
        "def factorial(n):\n",
        "    if n == 0:\n",
        "        return 1\n",
        "    return n * factorial(n-1)\n",
        "num = 20;\n",
        "print(\"Factorial of\", num, \"is\", factorial(num))"
      ],
      "metadata": {
        "colab": {
          "base_uri": "https://localhost:8080/"
        },
        "id": "jeLZlU-fg5pX",
        "outputId": "dce2c478-18ef-40dd-c04d-23617c74e2cc"
      },
      "execution_count": null,
      "outputs": [
        {
          "output_type": "stream",
          "name": "stdout",
          "text": [
            "Factorial of 20 is 2432902008176640000\n"
          ]
        }
      ]
    },
    {
      "cell_type": "code",
      "source": [
        "#5\n",
        "def hammingDist(str1, str2):\n",
        "    i = 0\n",
        "    count = 0\n",
        " \n",
        "    while(i < len(str1)):\n",
        "        if(str1[i] != str2[i]):\n",
        "            count += 1\n",
        "        i += 1\n",
        "    return count \n",
        "str1 = \"abcdefghijklmn\"\n",
        "str2 = \"bcdurtfgcuhwfr\"\n",
        "print(hammingDist(str1, str2))"
      ],
      "metadata": {
        "colab": {
          "base_uri": "https://localhost:8080/"
        },
        "id": "oIcxqBFFiPBa",
        "outputId": "5666620f-02f7-46bd-b9c0-27c64f469c74"
      },
      "execution_count": null,
      "outputs": [
        {
          "output_type": "stream",
          "name": "stdout",
          "text": [
            "14\n"
          ]
        }
      ]
    },
    {
      "cell_type": "markdown",
      "source": [
        "Section **B**"
      ],
      "metadata": {
        "id": "myQYc8JHiwph"
      }
    },
    {
      "cell_type": "code",
      "source": [
        "#1\n",
        "a= [1,2,45,67,9,6,3,'v','a','b','s']\n",
        "\n",
        "def filter_list(a):\n",
        "    new_list = []\n",
        "    for x in a:\n",
        "        if type(x) == int:\n",
        "            new_list.append(x)\n",
        "    return new_list\n",
        "\n",
        "print(filter_list(a))"
      ],
      "metadata": {
        "colab": {
          "base_uri": "https://localhost:8080/"
        },
        "id": "5sozr_BJi065",
        "outputId": "0e31e578-ae35-427e-e728-b6733d83f1da"
      },
      "execution_count": null,
      "outputs": [
        {
          "output_type": "stream",
          "name": "stdout",
          "text": [
            "[1, 2, 45, 67, 9, 6, 3]\n"
          ]
        }
      ]
    },
    {
      "cell_type": "code",
      "source": [
        "#2\n",
        "def string_reverse(str1):\n",
        "\n",
        "    rstr1 = ''\n",
        "    index = len(str1)\n",
        "    while index > 0:\n",
        "        rstr1 += str1[ index - 1 ]\n",
        "        index = index - 1\n",
        "    return rstr1\n",
        "print(string_reverse('1234abcd'))"
      ],
      "metadata": {
        "id": "-R-6-wroldK2"
      },
      "execution_count": null,
      "outputs": []
    },
    {
      "cell_type": "code",
      "source": [
        "#4\n",
        "def factorial(n):\n",
        "      \n",
        "    if n == 0:\n",
        "        return 1\n",
        "     \n",
        "    return n * factorial(n-1)\n",
        "num = 5;\n",
        "print(\"Factorial of\", num, \"is\",\n",
        "factorial(num))"
      ],
      "metadata": {
        "colab": {
          "base_uri": "https://localhost:8080/"
        },
        "id": "MvvnIIoRDk1R",
        "outputId": "8448792f-5827-40ad-bf00-9243e9307bf4"
      },
      "execution_count": null,
      "outputs": [
        {
          "output_type": "stream",
          "name": "stdout",
          "text": [
            "Factorial of 5 is 120\n"
          ]
        }
      ]
    },
    {
      "cell_type": "code",
      "source": [
        "#5\n",
        "test_list = ['3', '5', '7', '9', '11']\n",
        "  \n",
        "print (\"The original list is : \" + str(test_list))\n",
        "  \n",
        "test_list.append(test_list.pop(test_list.index('5')))\n",
        "\n",
        "print (\"The modified element moved list is : \" + str(test_list))"
      ],
      "metadata": {
        "colab": {
          "base_uri": "https://localhost:8080/"
        },
        "id": "FCUhpyrVD7tH",
        "outputId": "15bfa7f3-f1c6-4b88-bc3f-e6e755e18c50"
      },
      "execution_count": null,
      "outputs": [
        {
          "output_type": "stream",
          "name": "stdout",
          "text": [
            "The original list is : ['3', '5', '7', '9', '11']\n",
            "The modified element moved list is : ['3', '7', '9', '11', '5']\n"
          ]
        }
      ]
    },
    {
      "cell_type": "markdown",
      "source": [
        "Section **C**"
      ],
      "metadata": {
        "id": "cN2A_5Zg_coy"
      }
    },
    {
      "cell_type": "code",
      "source": [
        "def multichar(text, n):\n",
        "    return ''.join([x * n for x in text])\n",
        "multichar(\"Sandesh\",2)"
      ],
      "metadata": {
        "colab": {
          "base_uri": "https://localhost:8080/",
          "height": 35
        },
        "id": "wj-V5PQ8_gW6",
        "outputId": "5da6b999-9bb7-447d-f28d-e3f9015d3f31"
      },
      "execution_count": 1,
      "outputs": [
        {
          "output_type": "execute_result",
          "data": {
            "text/plain": [
              "'SSaannddeesshh'"
            ],
            "application/vnd.google.colaboratory.intrinsic+json": {
              "type": "string"
            }
          },
          "metadata": {},
          "execution_count": 1
        }
      ]
    },
    {
      "cell_type": "code",
      "source": [
        "#2\n",
        "def reverse(arg):\n",
        "\tif isinstance(arg, bool):\n",
        "\t\treturn not arg\n",
        "\telse:\n",
        "\t\treturn('boolean expected')\n",
        "\n",
        "def reverse(arg=None):\n",
        "\treturn not arg if type(arg) == bool else \"boolean expected\"\n",
        "\n",
        "print(reverse(True)) \n",
        "print(reverse(False)) \n",
        "print(reverse(0)) \n",
        "print(reverse(None))"
      ],
      "metadata": {
        "id": "LAB4qb7N_nlC"
      },
      "execution_count": null,
      "outputs": []
    },
    {
      "cell_type": "code",
      "source": [
        "#3\n",
        "def fn(a):\n",
        "    res = 0.5\n",
        "    for i in range(a):\n",
        "        res *= 2\n",
        "    \n",
        "    return res / 1000 \n",
        "fn(1)"
      ],
      "metadata": {
        "id": "JoxhswoU_qlp"
      },
      "execution_count": null,
      "outputs": []
    },
    {
      "cell_type": "code",
      "source": [
        "#4\n",
        "test_str = 'VedantBudukale'\n",
        " \n",
        "\n",
        "print(\"The original string is : \" + str(test_str))\n",
        " \n",
        "\n",
        "res = [idx for idx in range(len(test_str)) if test_str[idx].isupper()]\n",
        " \n",
        "\n",
        "print(\"Uppercase elements indices : \" + str(res))"
      ],
      "metadata": {
        "id": "t-oj4TMg_tOb"
      },
      "execution_count": null,
      "outputs": []
    },
    {
      "cell_type": "code",
      "source": [
        "#5\n",
        "\n",
        "listl=[i for i in range (4) if(i%2==0)]\n",
        "\n",
        "print(listl)"
      ],
      "metadata": {
        "id": "g-1WXbSN_viL"
      },
      "execution_count": null,
      "outputs": []
    },
    {
      "cell_type": "markdown",
      "source": [
        "Section **D**"
      ],
      "metadata": {
        "id": "jovmnmWR_2Xg"
      }
    },
    {
      "cell_type": "code",
      "source": [
        "#1\n",
        "l = [6,9,4,'ved','budukale']\n",
        "output = [x for x in l if type(x) != str]\n",
        "print(output)"
      ],
      "metadata": {
        "colab": {
          "base_uri": "https://localhost:8080/"
        },
        "id": "q5knI-LJ_yn1",
        "outputId": "a56bd805-5df1-41ac-c947-77b88409b89a"
      },
      "execution_count": 2,
      "outputs": [
        {
          "output_type": "stream",
          "name": "stdout",
          "text": [
            "[6, 9, 4]\n"
          ]
        }
      ]
    },
    {
      "cell_type": "code",
      "source": [
        "#3\n",
        "import math\n",
        "pi = math.pi\n",
        "def volume(r, h):\n",
        "    return (1 / 3) * pi * r * r * h\n",
        "def surfacearea(r, s):\n",
        "    return pi * r * s + pi * r * r\n",
        "radius = float(2)\n",
        "height = float(3)\n",
        "slat_height = float(5)\n",
        "print( \"Volume Of Cone : \", volume(radius, height) )\n",
        "print( \"Surface Area Of Cone : \", surfacearea(radius, slat_height) )"
      ],
      "metadata": {
        "id": "UIjkzl-N_4na"
      },
      "execution_count": null,
      "outputs": []
    },
    {
      "cell_type": "code",
      "source": [
        "#5\n",
        "def missing_num(lst):\n",
        "\n",
        "   for n in range(1,11):\n",
        "\n",
        "       if n not in lst:\n",
        "\n",
        "           print(n)\n",
        "\n",
        "lst = (1,3,4,5,6,7,8,9,10)\n",
        "\n",
        "missing_num(lst)"
      ],
      "metadata": {
        "id": "NMSnb9GQAExb"
      },
      "execution_count": null,
      "outputs": []
    }
  ]
}